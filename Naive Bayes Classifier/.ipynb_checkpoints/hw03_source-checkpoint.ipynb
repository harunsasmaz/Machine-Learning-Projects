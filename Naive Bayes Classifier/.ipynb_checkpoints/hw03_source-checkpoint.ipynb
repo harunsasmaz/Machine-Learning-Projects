{
 "cells": [
  {
   "cell_type": "code",
   "execution_count": 77,
   "metadata": {},
   "outputs": [],
   "source": [
    "import matplotlib.pyplot as plt\n",
    "import numpy as np\n",
    "import pandas as pd\n",
    "import math\n",
    "\n",
    "def safelog(x):\n",
    "    return(np.log(x + 1e-100))"
   ]
  },
  {
   "cell_type": "code",
   "execution_count": 78,
   "metadata": {},
   "outputs": [],
   "source": [
    "data_set = pd.read_csv(\"hw02_data_set_images.csv\", delimiter=',', header=None).to_numpy()\n",
    "labels = pd.read_csv(\"hw02_data_set_labels.csv\", delimiter=',', header=None).to_numpy().reshape(195,)\n",
    "\n",
    "A_train = data_set[:25]\n",
    "B_train = data_set[39:64]\n",
    "C_train = data_set[78:103]\n",
    "D_train = data_set[117:142]\n",
    "E_train = data_set[156:181]\n",
    "\n",
    "A_test = data_set[25:39]\n",
    "B_test = data_set[64:78]\n",
    "C_test = data_set[103:117]\n",
    "D_test = data_set[142:156]\n",
    "E_test = data_set[181:195]\n",
    "\n",
    "x_train = np.concatenate((A_train, B_train, C_train, D_train, E_train))\n",
    "x_test  = np.concatenate((A_test, B_test, C_test, D_test, E_test))\n",
    "\n",
    "y_train_char = np.concatenate((labels[:25], labels[39:64], labels[78:103], labels[117:142], labels[156:181]))\n",
    "y_test_char = np.concatenate((labels[25:39], labels[64:78], labels[103:117], labels[142:156], labels[181:195]))\n",
    "\n",
    "y_train = np.array([ord(char) - 64 for char in y_train_char]).astype(int)\n",
    "y_test = np.array([ord(char) - 64 for char in y_test_char]).astype(int)\n",
    "\n",
    "N = x_train.shape[0]\n",
    "K = 5"
   ]
  },
  {
   "cell_type": "code",
   "execution_count": 79,
   "metadata": {},
   "outputs": [],
   "source": [
    "pcd_A = A_train.sum(axis=0)/N\n",
    "pcd_B = B_train.sum(axis=0)/N\n",
    "pcd_C = C_train.sum(axis=0)/N\n",
    "pcd_D = D_train.sum(axis=0)/N\n",
    "pcd_E = E_train.sum(axis=0)/N\n",
    "\n",
    "pcd = np.stack((pcd_A, pcd_B, pcd_C, pcd_D, pcd_E)).T\n",
    "\n",
    "priors = np.array([1/5 for x in range(K)])"
   ]
  },
  {
   "cell_type": "code",
   "execution_count": 80,
   "metadata": {},
   "outputs": [],
   "source": [
    "def score_A(X):\n",
    "    return np.sum(X*safelog(pcd[:,0]) + (1 - X)*safelog(1 - pcd[:, 0])) + safelog(priors[0])\n",
    "\n",
    "def score_B(X):\n",
    "    return np.sum(X*safelog(pcd[:,1]) + (1 - X)*safelog(1 - pcd[:, 1])) + safelog(priors[1])\n",
    "\n",
    "def score_C(X):\n",
    "    return np.sum(X*safelog(pcd[:,2]) + (1 - X)*safelog(1 - pcd[:, 2])) + safelog(priors[2])\n",
    "\n",
    "def score_D(X):\n",
    "    return np.sum(X*safelog(pcd[:,3]) + (1 - X)*safelog(1 - pcd[:, 3])) + safelog(priors[3])\n",
    "\n",
    "def score_E(X):\n",
    "    return np.sum(X*safelog(pcd[:,4]) + (1 - X)*safelog(1 - pcd[:, 4])) + safelog(priors[4])\n",
    "\n",
    "def predict(X):\n",
    "    return np.argmax([score_A(X), score_B(X), score_C(X), score_D(X), score_E(X)]) + 1"
   ]
  },
  {
   "cell_type": "code",
   "execution_count": 81,
   "metadata": {},
   "outputs": [
    {
     "name": "stdout",
     "output_type": "stream",
     "text": [
      "y_truth   1   2   3   4   5\n",
      "y_pred                     \n",
      "1        25   0   0   0   0\n",
      "2         0  25   1   1   1\n",
      "3         0   0  23   0   0\n",
      "4         0   0   0  24   0\n",
      "5         0   0   1   0  24\n"
     ]
    }
   ],
   "source": [
    "y_pred = np.apply_along_axis(predict, 1, x_train)\n",
    "confusion_matrix = pd.crosstab(y_pred, y_train, rownames = ['y_pred'], colnames = ['y_truth'])\n",
    "print(confusion_matrix)"
   ]
  },
  {
   "cell_type": "code",
   "execution_count": 82,
   "metadata": {},
   "outputs": [
    {
     "name": "stdout",
     "output_type": "stream",
     "text": [
      "y_truth  1   2  3   4   5\n",
      "y_pred                   \n",
      "1        9   0  0   0   0\n",
      "2        1  11  2   3   2\n",
      "3        0   0  7   0   0\n",
      "4        4   3  1  11   0\n",
      "5        0   0  4   0  12\n"
     ]
    }
   ],
   "source": [
    "y_pred_test = np.apply_along_axis(predict, 1, x_test)\n",
    "confusion_matrix_test = pd.crosstab(y_pred_test, y_test, rownames = ['y_pred'], colnames = ['y_truth'])\n",
    "print(confusion_matrix_test)"
   ]
  },
  {
   "cell_type": "code",
   "execution_count": 83,
   "metadata": {
    "scrolled": true
   },
   "outputs": [
    {
     "data": {
      "text/plain": [
       "<matplotlib.image.AxesImage at 0x11bea0208>"
      ]
     },
     "execution_count": 83,
     "metadata": {},
     "output_type": "execute_result"
    },
    {
     "data": {
      "image/png": "[encoded data removed]",
      "text/plain": [
       "<Figure size 432x288 with 1 Axes>"
      ]
     },
     "metadata": {
      "needs_background": "light"
     },
     "output_type": "display_data"
    }
   ],
   "source": [
    "p_A = pcd[:,0].reshape((16,20))\n",
    "plt.imshow(p_A.T, cmap='Greys')"
   ]
  },
  {
   "cell_type": "code",
   "execution_count": 84,
   "metadata": {},
   "outputs": [
    {
     "data": {
      "text/plain": [
       "<matplotlib.image.AxesImage at 0x11be7a048>"
      ]
     },
     "execution_count": 84,
     "metadata": {},
     "output_type": "execute_result"
    },
    {
     "data": {
      "image/png": "[encoded data removed]",
      "text/plain": [
       "<Figure size 432x288 with 1 Axes>"
      ]
     },
     "metadata": {
      "needs_background": "light"
     },
     "output_type": "display_data"
    }
   ],
   "source": [
    "p_B = pcd[:,1].reshape((16,20))\n",
    "plt.imshow(p_B.T,  cmap='Greys')"
   ]
  },
  {
   "cell_type": "code",
   "execution_count": 85,
   "metadata": {},
   "outputs": [
    {
     "data": {
      "text/plain": [
       "<matplotlib.image.AxesImage at 0x11bf8edd8>"
      ]
     },
     "execution_count": 85,
     "metadata": {},
     "output_type": "execute_result"
    },
    {
     "data": {
      "image/png": "[encoded data removed]",
      "text/plain": [
       "<Figure size 432x288 with 1 Axes>"
      ]
     },
     "metadata": {
      "needs_background": "light"
     },
     "output_type": "display_data"
    }
   ],
   "source": [
    "p_C = pcd[:,2].reshape((16,20))\n",
    "plt.imshow(p_C.T,  cmap='Greys')"
   ]
  },
  {
   "cell_type": "code",
   "execution_count": 86,
   "metadata": {},
   "outputs": [
    {
     "data": {
      "text/plain": [
       "<matplotlib.image.AxesImage at 0x11c022898>"
      ]
     },
     "execution_count": 86,
     "metadata": {},
     "output_type": "execute_result"
    },
    {
     "data": {
      "image/png": "[encoded data removed]",
      "text/plain": [
       "<Figure size 432x288 with 1 Axes>"
      ]
     },
     "metadata": {
      "needs_background": "light"
     },
     "output_type": "display_data"
    }
   ],
   "source": [
    "p_D = pcd[:,3].reshape((16,20))\n",
    "plt.imshow(p_D.T,  cmap='Greys')"
   ]
  },
  {
   "cell_type": "code",
   "execution_count": 87,
   "metadata": {},
   "outputs": [
    {
     "data": {
      "text/plain": [
       "<matplotlib.image.AxesImage at 0x11c0d7828>"
      ]
     },
     "execution_count": 87,
     "metadata": {},
     "output_type": "execute_result"
    },
    {
     "data": {
      "image/png": "[encoded data removed]",
      "text/plain": [
       "<Figure size 432x288 with 1 Axes>"
      ]
     },
     "metadata": {
      "needs_background": "light"
     },
     "output_type": "display_data"
    }
   ],
   "source": [
    "p_E = pcd[:,4].reshape((16,20))\n",
    "plt.imshow(p_E.T,  cmap='Greys')"
   ]
  },
  {
   "cell_type": "code",
   "execution_count": null,
   "metadata": {},
   "outputs": [],
   "source": []
  }
 ],
 "metadata": {
  "kernelspec": {
   "display_name": "Python 3",
   "language": "python",
   "name": "python3"
  },
  "language_info": {
   "codemirror_mode": {
    "name": "ipython",
    "version": 3
   },
   "file_extension": ".py",
   "mimetype": "text/x-python",
   "name": "python",
   "nbconvert_exporter": "python",
   "pygments_lexer": "ipython3",
   "version": "3.7.3"
  }
 },
 "nbformat": 4,
 "nbformat_minor": 4
}
