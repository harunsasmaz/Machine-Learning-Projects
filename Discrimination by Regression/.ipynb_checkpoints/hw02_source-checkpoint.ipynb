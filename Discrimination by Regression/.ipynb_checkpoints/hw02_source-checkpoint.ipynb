{
 "cells": [
  {
   "cell_type": "markdown",
   "metadata": {},
   "source": [
    "# ENGR 421 - Homework 2\n",
    "## Harun Sasmaz\n",
    "### 59900"
   ]
  },
  {
   "cell_type": "code",
   "execution_count": 2,
   "metadata": {},
   "outputs": [],
   "source": [
    "import matplotlib.pyplot as plt\n",
    "import numpy as np\n",
    "import pandas as pd\n",
    "\n",
    "def safelog(x):\n",
    "    return(np.log(x + 1e-100))"
   ]
  },
  {
   "cell_type": "markdown",
   "metadata": {},
   "source": [
    "### Importing Data"
   ]
  },
  {
   "cell_type": "code",
   "execution_count": 3,
   "metadata": {},
   "outputs": [],
   "source": [
    "data_set = pd.read_csv(\"hw02_data_set_images.csv\", delimiter=',', header=None).to_numpy()\n",
    "labels = pd.read_csv(\"hw02_data_set_labels.csv\", delimiter=',', header=None).to_numpy().reshape(195,)\n",
    "\n",
    "x_train = np.concatenate((data_set[:25], data_set[39:64], data_set[78:103]))\n",
    "x_train = np.concatenate((x_train, data_set[117:142], data_set[156:181]))\n",
    "x_test = np.concatenate((data_set[25:39], data_set[64:78], data_set[103:117]))\n",
    "x_test = np.concatenate((x_test, data_set[142:156], data_set[181:195]))\n",
    "\n",
    "y_train_char = np.concatenate((labels[:25], labels[39:64], labels[78:103]))\n",
    "y_train_char = np.concatenate((y_train_char, labels[117:142], labels[156:181]))\n",
    "y_test_char = np.concatenate((labels[25:39], labels[64:78], labels[103:117]))\n",
    "y_test_char = np.concatenate((y_test_char, labels[142:156], labels[181:195]))\n",
    "\n",
    "y_train = np.array([ord(char) - 64 for char in y_train_char]).astype(int)\n",
    "y_test = np.array([ord(char) - 64 for char in y_test_char]).astype(int)"
   ]
  },
  {
   "cell_type": "markdown",
   "metadata": {},
   "source": [
    "### Learning Parameters and Y_truth"
   ]
  },
  {
   "cell_type": "code",
   "execution_count": 4,
   "metadata": {},
   "outputs": [],
   "source": [
    "K = 5\n",
    "N = x_train.shape[0]\n",
    "\n",
    "eta = 0.001\n",
    "epsilon = 1e-3\n",
    "\n",
    "y_truth = np.zeros((N, K)).astype(int)\n",
    "y_truth[range(N), y_train - 1] = 1"
   ]
  },
  {
   "cell_type": "markdown",
   "metadata": {},
   "source": [
    "### Discrimination Functions and Parameters"
   ]
  },
  {
   "cell_type": "code",
   "execution_count": 5,
   "metadata": {},
   "outputs": [],
   "source": [
    "def sigmoid(X, W, w0):\n",
    "    return(1 / (1 + np.exp(-(np.matmul(X, W) + w0))))\n",
    "\n",
    "def gradient_W(X, Y_truth, Y_predicted):\n",
    "    return(np.asarray([-np.sum(np.repeat((Y_truth[:,c] - Y_predicted[:,c])[:, None], X.shape[1], axis = 1) * X, axis = 0) for c in range(K)]).transpose())\n",
    "\n",
    "def gradient_w0(Y_truth, Y_predicted):\n",
    "    return(-np.sum(Y_truth - Y_predicted, axis = 0))\n",
    "\n",
    "\n",
    "W = np.random.uniform(low = -0.01, high = 0.01, size = (x_train.shape[1], K))\n",
    "w0 = np.random.uniform(low = -0.01, high = 0.01, size = (1, K))"
   ]
  },
  {
   "cell_type": "markdown",
   "metadata": {},
   "source": [
    "### Linear Discrimination Iteration"
   ]
  },
  {
   "cell_type": "code",
   "execution_count": 6,
   "metadata": {},
   "outputs": [],
   "source": [
    "iteration = 1\n",
    "objective_values = []\n",
    "\n",
    "while 1:\n",
    "    y_predicted = sigmoid(x_train, W, w0)\n",
    "    objective_values = np.append(objective_values, np.sum(0.5*(y_truth - y_predicted)**2))\n",
    "\n",
    "    W_old = W\n",
    "    w0_old = w0\n",
    "\n",
    "    W = W - eta * gradient_W(x_train, y_truth, y_predicted)\n",
    "    w0 = w0 - eta * gradient_w0(y_truth, y_predicted)\n",
    "\n",
    "    if np.sqrt(np.sum((w0 - w0_old))**2 + np.sum((W - W_old)**2)) < epsilon:\n",
    "        break\n",
    "\n",
    "    iteration = iteration + 1"
   ]
  },
  {
   "cell_type": "markdown",
   "metadata": {},
   "source": [
    "### Objective Values Convergence Graph"
   ]
  },
  {
   "cell_type": "code",
   "execution_count": 7,
   "metadata": {},
   "outputs": [
    {
     "data": {
      "image/png": "[encoded data removed]",
      "text/plain": [
       "<Figure size 720x432 with 1 Axes>"
      ]
     },
     "metadata": {
      "needs_background": "light"
     },
     "output_type": "display_data"
    }
   ],
   "source": [
    "plt.figure(figsize = (10, 6))\n",
    "plt.plot(range(1, iteration + 1), objective_values, \"k-\")\n",
    "plt.xlabel(\"Iteration\")\n",
    "plt.ylabel(\"Error\")\n",
    "plt.show()"
   ]
  },
  {
   "cell_type": "markdown",
   "metadata": {},
   "source": [
    "### Confusion Matrix for Train Data"
   ]
  },
  {
   "cell_type": "code",
   "execution_count": 8,
   "metadata": {},
   "outputs": [
    {
     "name": "stdout",
     "output_type": "stream",
     "text": [
      "y_truth   1   2   3   4   5\n",
      "y_pred                     \n",
      "1        25   0   0   0   0\n",
      "2         0  25   0   0   0\n",
      "3         0   0  25   0   0\n",
      "4         0   0   0  25   0\n",
      "5         0   0   0   0  25\n"
     ]
    }
   ],
   "source": [
    "y_pred = np.argmax(y_predicted, axis = 1) + 1\n",
    "confusion_matrix = pd.crosstab(y_pred, y_train, rownames = ['y_pred'], colnames = ['y_truth'])\n",
    "print(confusion_matrix)"
   ]
  },
  {
   "cell_type": "markdown",
   "metadata": {},
   "source": [
    "### Confusion Matrix for Test Data"
   ]
  },
  {
   "cell_type": "code",
   "execution_count": 9,
   "metadata": {
    "scrolled": true
   },
   "outputs": [
    {
     "name": "stdout",
     "output_type": "stream",
     "text": [
      "y_test   1   2   3   4   5\n",
      "y_pred                    \n",
      "1       13   1   0   0   0\n",
      "2        1  11   0   0   2\n",
      "3        0   0  14   0   0\n",
      "4        0   0   0  14   0\n",
      "5        0   2   0   0  12\n"
     ]
    }
   ],
   "source": [
    "N = x_test.shape[0]\n",
    "y_test_pred = np.argmax(sigmoid(x_test, W, w0), axis = 1) + 1\n",
    "confusion_matrix = pd.crosstab(y_test_pred, y_test, rownames = ['y_pred'], colnames = ['y_test'])\n",
    "print(confusion_matrix)"
   ]
  },
  {
   "cell_type": "code",
   "execution_count": null,
   "metadata": {},
   "outputs": [],
   "source": []
  }
 ],
 "metadata": {
  "kernelspec": {
   "display_name": "Python 3",
   "language": "python",
   "name": "python3"
  },
  "language_info": {
   "codemirror_mode": {
    "name": "ipython",
    "version": 3
   },
   "file_extension": ".py",
   "mimetype": "text/x-python",
   "name": "python",
   "nbconvert_exporter": "python",
   "pygments_lexer": "ipython3",
   "version": "3.7.3"
  }
 },
 "nbformat": 4,
 "nbformat_minor": 4
}
