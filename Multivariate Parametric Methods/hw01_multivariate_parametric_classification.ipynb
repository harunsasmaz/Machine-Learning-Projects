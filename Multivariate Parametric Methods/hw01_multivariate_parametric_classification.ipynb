{
 "cells": [
  {
   "cell_type": "markdown",
   "metadata": {},
   "source": [
    "# ENGR 421 - Homework 1\n",
    "## Harun Şaşmaz \n",
    "### 59900"
   ]
  },
  {
   "cell_type": "code",
   "execution_count": 5,
   "metadata": {},
   "outputs": [],
   "source": [
    "import math\n",
    "import matplotlib.pyplot as plt\n",
    "import numpy as np\n",
    "import pandas as pd"
   ]
  },
  {
   "cell_type": "code",
   "execution_count": 6,
   "metadata": {},
   "outputs": [],
   "source": [
    "# Declare given parameters\n",
    "means = np.array([[0, 2.5], [-2.5, -2.0], [2.5, -2.0]])\n",
    "covariances = np.array([[[3.2, 0], [0, 1.2]], [[1.2, -0.8], [-0.8, 1.2]], [[1.2, 0.8], [0.8, 1.2]]])\n",
    "class_sizes = np.array([120, 90, 90]);"
   ]
  },
  {
   "cell_type": "markdown",
   "metadata": {},
   "source": [
    "### Generate Data"
   ]
  },
  {
   "cell_type": "code",
   "execution_count": 24,
   "metadata": {},
   "outputs": [],
   "source": [
    "# Generate data points\n",
    "np.random.seed(421)\n",
    "points_1 = np.random.multivariate_normal(means[0], covariances[0], class_sizes[0])\n",
    "points_2 = np.random.multivariate_normal(means[1], covariances[1], class_sizes[1])\n",
    "points_3 = np.random.multivariate_normal(means[2], covariances[2], class_sizes[2])\n",
    "points = np.concatenate((points_1, points_2, points_3))\n",
    "\n",
    "# Generate labels\n",
    "labels = np.concatenate((np.repeat(1, class_sizes[0]), np.repeat(2, class_sizes[1]), np.repeat(3, class_sizes[2])))"
   ]
  },
  {
   "cell_type": "code",
   "execution_count": 25,
   "metadata": {},
   "outputs": [],
   "source": [
    "# Declare the data set\n",
    "data_set = np.stack((points[:,0], points[:,1] , labels), axis = 1)\n",
    "\n",
    "# Total number of data points\n",
    "N = data_set.shape[0]"
   ]
  },
  {
   "cell_type": "markdown",
   "metadata": {},
   "source": [
    "### Plot Generated Data"
   ]
  },
  {
   "cell_type": "code",
   "execution_count": 9,
   "metadata": {},
   "outputs": [
    {
     "data": {
      "image/png": "[encoded data removed]",
      "text/plain": [
       "<Figure size 432x432 with 1 Axes>"
      ]
     },
     "metadata": {
      "needs_background": "light"
     },
     "output_type": "display_data"
    }
   ],
   "source": [
    "# Plot generated data points\n",
    "plt.figure(figsize = (6, 6))\n",
    "plt.plot(points_1[:,0], points_1[:, 1], \"r.\", markersize = 10)\n",
    "plt.plot(points_2[:,0], points_2[:, 1], \"g.\", markersize = 10)\n",
    "plt.plot(points_3[:,0], points_3[:, 1], \"b.\", markersize = 10)\n",
    "plt.xlabel(\"x_1\")\n",
    "plt.ylabel(\"x_2\")\n",
    "plt.show()"
   ]
  },
  {
   "cell_type": "markdown",
   "metadata": {},
   "source": [
    "### Compute Classification Parameters"
   ]
  },
  {
   "cell_type": "code",
   "execution_count": 10,
   "metadata": {},
   "outputs": [],
   "source": [
    "# Compute sample means\n",
    "sample_means = np.array([[np.sum(points_1[:, 0])/class_sizes[0], np.sum(points_1[:, 1]) / class_sizes[0]],\n",
    "                         [np.sum(points_2[:, 0])/class_sizes[1], np.sum(points_2[:, 1]) / class_sizes[1]],\n",
    "                         [np.sum(points_3[:, 0])/class_sizes[2], np.sum(points_3[:, 1]) / class_sizes[2]]])\n",
    "\n",
    "\n",
    "# Compute sample covariances\n",
    "sample_covariances = [np.cov(points_1.T), np.cov(points_2.T), np.cov(points_3.T)]\n",
    "\n",
    "# Compute class prior probabilities\n",
    "class_priors = np.array([class_sizes[0] / N, class_sizes[1] / N, class_sizes[2] / N])"
   ]
  },
  {
   "cell_type": "code",
   "execution_count": 11,
   "metadata": {},
   "outputs": [
    {
     "name": "stdout",
     "output_type": "stream",
     "text": [
      "Sample Means:\n",
      "\n",
      " [[ 0.04453807 -2.48491067  2.54954735]\n",
      " [ 2.61225128 -1.94817984 -1.9888099 ]]\n",
      "\n",
      "Class Priors:\n",
      "\n",
      " [0.4 0.3 0.3]\n",
      "\n",
      "Sample Covariances:\n",
      "\n",
      "[[2.83985866 0.22625045]\n",
      " [0.22625045 1.01248436]]\n",
      "[[ 1.54796955 -1.20213971]\n",
      " [-1.20213971  1.59048404]]\n",
      "[[1.41502266 0.93329244]\n",
      " [0.93329244 1.26185153]]\n"
     ]
    }
   ],
   "source": [
    "print(\"Sample Means:\\n\\n\", sample_means.T)\n",
    "print(\"\\nClass Priors:\\n\\n\", class_priors)\n",
    "print(\"\\nSample Covariances:\\n\", *sample_covariances, sep = \"\\n\")"
   ]
  },
  {
   "cell_type": "markdown",
   "metadata": {},
   "source": [
    "### Declare Score Functions"
   ]
  },
  {
   "cell_type": "code",
   "execution_count": 12,
   "metadata": {},
   "outputs": [],
   "source": [
    "# Score function for class 1\n",
    "def score_1(x):\n",
    "    def calc_loglikelihood(residuals, cov):\n",
    "        return -0.5 * (np.log(np.linalg.det(cov)) + residuals.T.dot(np.linalg.inv(cov)).dot(residuals)) + np.log(class_priors[0])\n",
    "\n",
    "    residuals = x - sample_means[0]\n",
    "    loglikelihood = calc_loglikelihood(residuals, sample_covariances[0])\n",
    "    return loglikelihood\n"
   ]
  },
  {
   "cell_type": "code",
   "execution_count": 13,
   "metadata": {},
   "outputs": [],
   "source": [
    "# Score function for class 2\n",
    "def score_2(x):\n",
    "    def calc_loglikelihood(residuals, cov):\n",
    "        return -0.5 * (np.log(np.linalg.det(cov)) + residuals.T.dot(np.linalg.inv(cov)).dot(residuals)) + np.log(class_priors[1])\n",
    "\n",
    "    residuals = x - sample_means[1]\n",
    "    loglikelihood = calc_loglikelihood(residuals, sample_covariances[1])\n",
    "    return loglikelihood"
   ]
  },
  {
   "cell_type": "code",
   "execution_count": 14,
   "metadata": {},
   "outputs": [],
   "source": [
    "# Score function for class 3\n",
    "def score_3(x):\n",
    "    def calc_loglikelihood(residuals, cov):\n",
    "        return -0.5 * (np.log(np.linalg.det(cov)) + residuals.T.dot(np.linalg.inv(cov)).dot(residuals)) + np.log(class_priors[2])\n",
    "\n",
    "    residuals = x - sample_means[2]\n",
    "    loglikelihood = calc_loglikelihood(residuals, sample_covariances[2])\n",
    "    return loglikelihood"
   ]
  },
  {
   "cell_type": "code",
   "execution_count": 15,
   "metadata": {},
   "outputs": [],
   "source": [
    "# Prediction function\n",
    "def find_label(x):\n",
    "    score1 = score_1(x)\n",
    "    score2 = score_2(x)\n",
    "    score3 = score_3(x)\n",
    "    score = max(score1, score2, score3)\n",
    "    if(score == score1):\n",
    "        return 1\n",
    "    elif(score == score2):\n",
    "        return 2\n",
    "    else:\n",
    "        return 3"
   ]
  },
  {
   "cell_type": "markdown",
   "metadata": {},
   "source": [
    "### Compute Predicted Classes and Confusion Matrix"
   ]
  },
  {
   "cell_type": "code",
   "execution_count": 16,
   "metadata": {},
   "outputs": [
    {
     "name": "stdout",
     "output_type": "stream",
     "text": [
      "y_truth    1   2   3\n",
      "y_pred              \n",
      "1        120   1   0\n",
      "2          0  89   1\n",
      "3          0   0  89\n"
     ]
    }
   ],
   "source": [
    "# Generate predicted labels\n",
    "y_pred = np.empty(N, dtype=int)\n",
    "for i in range(N):\n",
    "    y_pred[i] = find_label(points[i])\n",
    "\n",
    "\n",
    "# Print Confusion Matrix\n",
    "confusion_matrix = pd.crosstab(y_pred, labels, rownames=['y_pred'], colnames=['y_truth'])\n",
    "print (confusion_matrix)     "
   ]
  },
  {
   "cell_type": "markdown",
   "metadata": {},
   "source": [
    "### Plot Decision Boundaries"
   ]
  },
  {
   "cell_type": "code",
   "execution_count": 21,
   "metadata": {},
   "outputs": [],
   "source": [
    "# Prepare contour parameters for plotting\n",
    "x = np.linspace(-6,6, 501)\n",
    "y = np.linspace(-6,6, 501)\n",
    "X,Y = np.meshgrid(x,y)\n",
    "Z = np.zeros((501, 501))\n",
    "\n",
    "for i in range(501):\n",
    "    for j in range(501):\n",
    "        Z[i][j] = find_label([X[i][j], Y[i][j]])\n",
    "        \n",
    "# Wait this cell for a few seconds to be completed"
   ]
  },
  {
   "cell_type": "code",
   "execution_count": 22,
   "metadata": {},
   "outputs": [
    {
     "data": {
      "image/png": "[encoded data removed]",
      "text/plain": [
       "<Figure size 504x504 with 1 Axes>"
      ]
     },
     "metadata": {
      "needs_background": "light"
     },
     "output_type": "display_data"
    }
   ],
   "source": [
    "# Plot Decision Boundaries \n",
    "cmap = plt.cm.get_cmap(\"hsv\", 4)\n",
    "        \n",
    "plt.figure(figsize = (7,7))\n",
    "plt.plot(points_1[:,0], points_1[:, 1], \"r.\", markersize = 12)\n",
    "plt.plot(points_2[:,0], points_2[:, 1], \"g.\", markersize = 12)\n",
    "plt.plot(points_3[:,0], points_3[:, 1], \"b.\", markersize = 12)\n",
    "plt.plot(points[y_pred != labels,0], points[y_pred != labels,1], \"ko\", markersize = 12, fillstyle=\"none\")\n",
    "plt.xlabel(\"x_1\")\n",
    "plt.ylabel(\"x_2\")\n",
    "plt.ylim(-6.5, 6.5)\n",
    "plt.xlim(-6.5, 6.5)\n",
    "plt.contourf(x, y, Z, levels=np.arange(-0.5,4), cmap = cmap, alpha=0.4)\n",
    "plt.show()"
   ]
  },
  {
   "cell_type": "code",
   "execution_count": null,
   "metadata": {},
   "outputs": [],
   "source": []
  }
 ],
 "metadata": {
  "kernelspec": {
   "display_name": "Python 3",
   "language": "python",
   "name": "python3"
  },
  "language_info": {
   "codemirror_mode": {
    "name": "ipython",
    "version": 3
   },
   "file_extension": ".py",
   "mimetype": "text/x-python",
   "name": "python",
   "nbconvert_exporter": "python",
   "pygments_lexer": "ipython3",
   "version": "3.7.3"
  }
 },
 "nbformat": 4,
 "nbformat_minor": 4
}
