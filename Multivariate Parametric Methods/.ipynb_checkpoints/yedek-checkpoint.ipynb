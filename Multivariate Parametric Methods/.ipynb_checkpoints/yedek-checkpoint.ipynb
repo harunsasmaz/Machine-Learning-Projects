{
 "cells": [
  {
   "cell_type": "code",
   "execution_count": 1,
   "metadata": {},
   "outputs": [],
   "source": [
    "import math\n",
    "import matplotlib.pyplot as plt\n",
    "import numpy as np\n",
    "import scipy.stats as stats\n",
    "from sklearn.metrics import confusion_matrix"
   ]
  },
  {
   "cell_type": "code",
   "execution_count": 2,
   "metadata": {},
   "outputs": [],
   "source": [
    "means = [[0, 2.5], [-2.5, -2.0], [2.5, -2.0]]\n",
    "covariances = [[[3.2, 0], [0, 1.2]], [[1.2, -0.8], [-0.8, 1.2]], [[1.2, 0.8], [0.8, 1.2]]]\n",
    "class_sizes = [120, 90, 90];"
   ]
  },
  {
   "cell_type": "code",
   "execution_count": 3,
   "metadata": {},
   "outputs": [],
   "source": [
    "points_1 = np.random.multivariate_normal(means[0], covariances[0], class_sizes[0])\n",
    "points_2 = np.random.multivariate_normal(means[1], covariances[1], class_sizes[1])\n",
    "points_3 = np.random.multivariate_normal(means[2], covariances[2], class_sizes[2])\n",
    "points = np.concatenate((points_1, points_2, points_3))\n",
    "\n",
    "y = np.concatenate((np.repeat(1, class_sizes[0]), np.repeat(2, class_sizes[1]), np.repeat(3, class_sizes[2])))"
   ]
  },
  {
   "cell_type": "code",
   "execution_count": 4,
   "metadata": {},
   "outputs": [],
   "source": [
    "data_set = np.stack((points[:,0], points[:,1] , y), axis = 1)\n",
    "# get x and y values\n",
    "x_1 = data_set[:120,0]\n",
    "x_2 = data_set[120:210,0]\n",
    "x_3 = data_set[210:300,0]\n",
    "y_1 = data_set[:120,1]\n",
    "y_2 = data_set[120:210,1]\n",
    "y_3 = data_set[210:300,1]\n",
    "\n",
    "N = data_set.shape[0]"
   ]
  },
  {
   "cell_type": "code",
   "execution_count": 5,
   "metadata": {},
   "outputs": [
    {
     "data": {
      "image/png": "[encoded data removed]",
      "text/plain": [
       "<Figure size 432x432 with 1 Axes>"
      ]
     },
     "metadata": {
      "needs_background": "light"
     },
     "output_type": "display_data"
    }
   ],
   "source": [
    "plt.figure(figsize = (6, 6))\n",
    "plt.plot(x_1, y_1, \"k.\", markersize = 10)\n",
    "plt.plot(x_2, y_2, \".\", markersize = 10)\n",
    "plt.plot(x_3, y_3, \"g.\", markersize = 10)\n",
    "plt.xlabel(\"x_1\")\n",
    "plt.ylabel(\"x_2\")\n",
    "plt.show()"
   ]
  },
  {
   "cell_type": "code",
   "execution_count": 6,
   "metadata": {},
   "outputs": [],
   "source": [
    "sample_means = np.array([[np.sum(x_1)/class_sizes[0], np.sum(y_1) / class_sizes[0]],\n",
    "                     [np.sum(x_2)/class_sizes[1], np.sum(y_2) / class_sizes[1]],\n",
    "                     [np.sum(x_3)/class_sizes[2], np.sum(y_3) / class_sizes[2]]])\n",
    "\n",
    "x_c1 = np.stack((x_1, y_1), axis = 1)\n",
    "x_c2 = np.stack((x_2, y_2), axis = 1)\n",
    "x_c3 = np.stack((x_3, y_3), axis = 1)\n",
    "\n",
    "sample_covariances = [np.cov(x_c1.T), np.cov(x_c2.T), np.cov(x_c3.T)]\n",
    "\n",
    "class_priors = np.array([class_sizes[0] / N, class_sizes[1] / N, class_sizes[2] / N])"
   ]
  },
  {
   "cell_type": "code",
   "execution_count": 7,
   "metadata": {},
   "outputs": [
    {
     "name": "stdout",
     "output_type": "stream",
     "text": [
      "Sample Means:\n",
      "\n",
      " [[-0.10804638  2.60644417]\n",
      " [-2.69890577 -1.87089689]\n",
      " [ 2.40989842 -2.10124109]]\n",
      "\n",
      "Class Priors:\n",
      "\n",
      " [0.4 0.3 0.3]\n",
      "\n",
      "Sample Covariances:\n",
      "\n",
      "[[ 2.61395032 -0.03223078]\n",
      " [-0.03223078  1.20979238]]\n",
      "[[ 1.31469135 -0.83693897]\n",
      " [-0.83693897  1.10723556]]\n",
      "[[1.50690552 1.1489126 ]\n",
      " [1.1489126  1.74681807]]\n"
     ]
    }
   ],
   "source": [
    "print(\"Sample Means:\\n\\n\", sample_means)\n",
    "print(\"\\nClass Priors:\\n\\n\", class_priors)\n",
    "print(\"\\nSample Covariances:\\n\", *sample_covariances, sep = \"\\n\")"
   ]
  },
  {
   "cell_type": "code",
   "execution_count": 8,
   "metadata": {},
   "outputs": [],
   "source": [
    "def score_1(x):\n",
    "    def calc_loglikelihood(residuals, cov):\n",
    "        return -0.5 * (np.log(np.linalg.det(cov)) + residuals.T.dot(np.linalg.inv(cov)).dot(residuals)) + np.log(class_priors[0])\n",
    "\n",
    "    residuals = x - sample_means[0]\n",
    "    loglikelihood = calc_loglikelihood(residuals, sample_covariances[0])\n",
    "    return loglikelihood\n"
   ]
  },
  {
   "cell_type": "code",
   "execution_count": 9,
   "metadata": {},
   "outputs": [],
   "source": [
    "def score_2(x):\n",
    "    def calc_loglikelihood(residuals, cov):\n",
    "        return -0.5 * (np.log(np.linalg.det(cov)) + residuals.T.dot(np.linalg.inv(cov)).dot(residuals)) + np.log(class_priors[1])\n",
    "\n",
    "    residuals = x - sample_means[1]\n",
    "    loglikelihood = calc_loglikelihood(residuals, sample_covariances[1])\n",
    "    return loglikelihood"
   ]
  },
  {
   "cell_type": "code",
   "execution_count": 10,
   "metadata": {},
   "outputs": [],
   "source": [
    "def score_3(x):\n",
    "    def calc_loglikelihood(residuals, cov):\n",
    "        return -0.5 * (np.log(np.linalg.det(cov)) + residuals.T.dot(np.linalg.inv(cov)).dot(residuals)) + np.log(class_priors[2])\n",
    "\n",
    "    residuals = x - sample_means[2]\n",
    "    loglikelihood = calc_loglikelihood(residuals, sample_covariances[2])\n",
    "    return loglikelihood"
   ]
  },
  {
   "cell_type": "code",
   "execution_count": 11,
   "metadata": {},
   "outputs": [],
   "source": [
    "def find_label(x):\n",
    "    score1 = score_1(x)\n",
    "    score2 = score_2(x)\n",
    "    score3 = score_3(x)\n",
    "    score = max(score1, score2, score3)\n",
    "    if(score == score1):\n",
    "        return 1\n",
    "    elif(score == score2):\n",
    "        return 2\n",
    "    else:\n",
    "        return 3"
   ]
  },
  {
   "cell_type": "code",
   "execution_count": 12,
   "metadata": {},
   "outputs": [
    {
     "name": "stdout",
     "output_type": "stream",
     "text": [
      "[[120   0   0]\n",
      " [  0  88   2]\n",
      " [  0   2  88]]\n"
     ]
    }
   ],
   "source": [
    "y_pred = np.empty(N, dtype=int)\n",
    "for i in range(0, N):\n",
    "    y_pred[i] = find_label(points[i])\n",
    "    \n",
    "confusion_m = confusion_matrix(y, y_pred, labels = [1, 2, 3]).T\n",
    "\n",
    "print(confusion_m)"
   ]
  },
  {
   "cell_type": "code",
   "execution_count": 16,
   "metadata": {},
   "outputs": [
    {
     "data": {
      "image/png": "[encoded data removed]",
      "text/plain": [
       "<Figure size 432x432 with 1 Axes>"
      ]
     },
     "metadata": {
      "needs_background": "light"
     },
     "output_type": "display_data"
    }
   ],
   "source": [
    "plt.figure(figsize = (6,6))\n",
    "\n",
    "cmap = plt.cm.get_cmap(\"tab10\", 4)\n",
    "\n",
    "plt.plot(x_1, y_1, \"r.\", markersize = 10)\n",
    "plt.plot(x_2, y_2, \"b.\", markersize = 10)\n",
    "plt.plot(x_3, y_3, \"g.\", markersize = 10)\n",
    "plt.xlabel(\"x_1\")\n",
    "plt.ylabel(\"x_2\")\n",
    "plt.ylim(-6.5, 6.5)\n",
    "plt.xlim(-6.5, 6.5)\n",
    "plt.tricontourf(points[:, 0], points[:, 1], y_pred, levels=np.arange(-0.5, 4), cmap=cmap, zorder=1, alpha=0.4)\n",
    "plt.show()"
   ]
  },
  {
   "cell_type": "code",
   "execution_count": null,
   "metadata": {},
   "outputs": [],
   "source": []
  }
 ],
 "metadata": {
  "kernelspec": {
   "display_name": "Python 3",
   "language": "python",
   "name": "python3"
  },
  "language_info": {
   "codemirror_mode": {
    "name": "ipython",
    "version": 3
   },
   "file_extension": ".py",
   "mimetype": "text/x-python",
   "name": "python",
   "nbconvert_exporter": "python",
   "pygments_lexer": "ipython3",
   "version": "3.7.3"
  }
 },
 "nbformat": 4,
 "nbformat_minor": 4
}
